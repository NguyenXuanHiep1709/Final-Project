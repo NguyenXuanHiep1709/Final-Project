{
 "cells": [
  {
   "cell_type": "code",
   "execution_count": 1,
   "metadata": {},
   "outputs": [],
   "source": [
    "import pandas as pd"
   ]
  },
  {
   "cell_type": "code",
   "execution_count": 2,
   "metadata": {},
   "outputs": [],
   "source": [
    "\n",
    "# Đọc dữ liệu từ file văn bản vào DataFrame\n",
    "data_cleaned = pd.read_csv('Data/Data.csv')\n",
    "\n",
    "# Loại bỏ các cột có tất cả giá trị null\n",
    "data_cleaned = data_cleaned.dropna(axis=1, how='all')\n",
    "\n",
    "# Đường dẫn để lưu file CSV\n",
    "csv_file_path = 'Data/Data_cleaned.csv'\n",
    "\n",
    "# Ghi DataFrame sau khi loại bỏ cột vào file CSV\n",
    "data_cleaned.to_csv(csv_file_path, index=False)"
   ]
  }
 ],
 "metadata": {
  "kernelspec": {
   "display_name": "base",
   "language": "python",
   "name": "python3"
  },
  "language_info": {
   "codemirror_mode": {
    "name": "ipython",
    "version": 3
   },
   "file_extension": ".py",
   "mimetype": "text/x-python",
   "name": "python",
   "nbconvert_exporter": "python",
   "pygments_lexer": "ipython3",
   "version": "3.11.5"
  }
 },
 "nbformat": 4,
 "nbformat_minor": 2
}
