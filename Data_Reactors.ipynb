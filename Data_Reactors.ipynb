{
 "cells": [
  {
   "cell_type": "code",
   "execution_count": 10,
   "metadata": {},
   "outputs": [],
   "source": [
    "import pandas as pd\n",
    "import json"
   ]
  },
  {
   "cell_type": "code",
   "execution_count": 11,
   "metadata": {},
   "outputs": [],
   "source": [
    "data = pd.read_csv('Data/Data_cleaned.csv')"
   ]
  },
  {
   "cell_type": "code",
   "execution_count": 12,
   "metadata": {},
   "outputs": [
    {
     "data": {
      "text/plain": [
       "0                                                     []\n",
       "1      [{'name': 'Yoshio Boragay', 'link': 'https://f...\n",
       "2      [{'name': 'Nguyễn Nguyên', 'link': 'https://fa...\n",
       "3      [{'name': 'Yoshio Boragay', 'link': 'https://f...\n",
       "4      [{'name': 'Athos Rodriguez', 'link': 'https://...\n",
       "                             ...                        \n",
       "295    [{'name': 'Roman Bloodyfox', 'link': 'https://...\n",
       "296    [{'name': 'Geka Seen', 'link': 'https://facebo...\n",
       "297    [{'name': 'Chichi Hshs', 'link': 'https://face...\n",
       "298    [{'name': 'Geka Seen', 'link': 'https://facebo...\n",
       "299    [{'name': 'Geka Seen', 'link': 'https://facebo...\n",
       "Name: reactors, Length: 300, dtype: object"
      ]
     },
     "execution_count": 12,
     "metadata": {},
     "output_type": "execute_result"
    }
   ],
   "source": [
    "data['reactors']"
   ]
  },
  {
   "cell_type": "code",
   "execution_count": 13,
   "metadata": {},
   "outputs": [
    {
     "data": {
      "text/plain": [
       "\"[{'name': 'Yoshio Boragay', 'link': 'https://facebook.com/profile.php?id=100095798731286&eav=Afacz5PN4xFECUu1LproF-cV_e2pM8Dow99F8KaaXYykMfCI0hD3W72Q-qdy9Q85um4&fref=pb&paipv=0', 'type': 'like'}, {'name': 'Hwang Minkay', 'link': 'https://facebook.com/HwangMinkayOT8?eav=Afa4TOqKno-scm54FVVy0arAOxsta4qdpRkLdLN6iP6dzmF_4ZHbGolVFrGigKa-yKQ&fref=pb&paipv=0', 'type': 'love'}, {'name': 'Trần Hồng Lam', 'link': 'https://facebook.com/profile.php?id=100095379735167&eav=AfbPbBMXqYaNmD8KM14_hp8N1cQoy-4Hl7WkQ5llIyHEOUPYwuj9F9o6uAUgHstShK4&fref=pb&paipv=0', 'type': 'love'}, {'name': 'Luxx Blde', 'link': 'https://facebook.com/profile.php?id=100095377629061&eav=AfaxZZyymkfDzlRIUK4cGhC6nNVTJrJ2AXaKulFdQiZLiPTSCex-8N2CSqgml7dSyOM&fref=pb&paipv=0', 'type': 'love'}, {'name': 'Rodolfo Tagolimot III', 'link': 'https://facebook.com/profile.php?id=100095326595047&eav=Afaal79T-GkC8--wJ9MQCHkmx58DPu4ZC7bFewwqBaTsY6OY2NH045-iVnhnpkQbUic&fref=pb&paipv=0', 'type': 'love'}, {'name': 'Selph De Astora', 'link': 'https://facebook.com/profile.php?id=100095310521093&eav=AfbfqSKItyT_Xyv4BENdoyG7DF58OzHENnQ1dfZ6I3W9QEtVvTTcOLgWnRHKyPCNrfM&fref=pb&paipv=0', 'type': 'love'}, {'name': '상서', 'link': 'https://facebook.com/profile.php?id=100095279902214&eav=AfYLlsoOkSMhyVPJvTB3_oz4VHIGe-IZltRWBM2-9-mX5XFQCpHctXa0G0w1DsUacgM&fref=pb&paipv=0', 'type': 'love'}, {'name': 'Kayn Shieda', 'link': 'https://facebook.com/profile.php?id=100095205684749&eav=AfafihfksyMUx76abrZjWU7Mb_JAH8CVtkdB7e86Md_LFmSK9T-xwITHEZp7rHwIiEY&fref=pb&paipv=0', 'type': 'like'}, {'name': 'Shaw', 'link': 'https://facebook.com/profile.php?id=100095124475554&eav=AfZJxG8KjOI8LXElwAatm1SNz8Fs8mwVP8ugN_CBEU6Tbkyq6VVF3eYFoc8AqC5rv9M&fref=pb&paipv=0', 'type': 'love'}, {'name': 'Las Fotografías De Joseph', 'link': 'https://facebook.com/profile.php?id=100095017059367&eav=AfalWQgmUYtCLNXCHv9xOZ8HMhZUT_b3R2MnQOBXhfjO70a0uhwlCFJQhmN5JrsLXrs&fref=pb&paipv=0', 'type': 'like'}, {'name': 'Daniela Huaman Chombo', 'link': 'https://facebook.com/profile.php?id=100094650951715&eav=AfYipXElbX26XjFXIdaWpTDrR1uZ3LY9p3080h8A1rKZGMXFyUjLVW32fSve34qmMzw&fref=pb&paipv=0', 'type': 'love'}, {'name': 'Duy Tung', 'link': 'https://facebook.com/profile.php?id=100094576643439&eav=Afbl1H7KmLijWBtSCaz7LEhMPjo3D9XIBPlB8uQ_TNZU3xZlgLM7JmfccVjWDat-5q4&fref=pb&paipv=0', 'type': 'like'}, {'name': 'Kolt', 'link': 'https://facebook.com/CATUNCXDE?eav=AfYYC6lkoAHMyJxyTVSmzbrhCaZrtmJRptRQJ81uUDAT339lzhy9PimSJJ_zcPbXvYg&fref=pb&paipv=0', 'type': 'love'}, {'name': 'Gero Taro', 'link': 'https://facebook.com/profile.php?id=100094455676145&eav=AfZsWvxk483MVUNULFXIrJbjH68jfrX5Zb6GbSsAGbVW1bSLkucA2Q6sLtplpYxhydE&fref=pb&paipv=0', 'type': 'care'}, {'name': 'Sahara Arnaude', 'link': 'https://facebook.com/profile.php?id=100094321314871&eav=AfbbBWjWwknN9cD69V0tdNeR3v67wG6VTLku6H_gJTozjkRgcr4YUpiu29ZB40_xPNM&fref=pb&paipv=0', 'type': 'love'}, {'name': 'Héctor Soto López', 'link': 'https://facebook.com/profile.php?id=100094307050266&eav=Afa0_IlMeJQMKACecXUO343ZZD1c9zzfvyR1KHs310kcPMQpn8LEcFLS8MZG-7S8sjI&fref=pb&paipv=0', 'type': 'love'}, {'name': 'Sanchez Reyes', 'link': 'https://facebook.com/profile.php?id=100094222908008&eav=AfaX7pQnAzVXRXr72L-QaVhimOYgyC4zC5iYKikIdWjcpt6leXoNpXI1HebQhqFrwqs&fref=pb&paipv=0', 'type': 'love'}, {'name': 'Xôyœtzin丶肇', 'link': 'https://facebook.com/profile.php?id=100094211590111&eav=AfbbMzYUrMw8qhC3GsQnX-wCtHUB2EcHMsVJHzbe8VANxR9hd3YLCw628csPTtr4HNw&fref=pb&paipv=0', 'type': 'love'}, {'name': 'Kh Duy', 'link': 'https://facebook.com/profile.php?id=100094064821644&eav=AfZooNR2LftDwkykQa7PUs1fHbDLg33PzsM1cv6ec1q9-A27FdIbwNrCli9LkwmlUus&fref=pb&paipv=0', 'type': 'like'}, {'name': 'Itakegi Dump', 'link': 'https://facebook.com/profile.php?id=100093534933493&eav=Afb33gB3u_tkSnZgW62QV5vDORMjLzEaoIxlWMPdXtM4hyLPXWO51P7KLU_HgG70CjI&fref=pb&paipv=0', 'type': 'love'}, {'name': 'デビッド バルガス', 'link': 'https://facebook.com/profile.php?id=100093397050254&eav=AfZwlw8BmfsGcOvfgf5R2H5w5xT-RDxSaI8xoounZrN6tAEiP_fHArTxyxmhfoLynfg&fref=pb&paipv=0', 'type': 'love'}, {'name': 'Mohamed Messai', 'link': 'https://facebook.com/profile.php?id=100092997605509&eav=AfaqpUQBLGK_QgFE4tI-T2Am7zoXJEhYL2np42pAXlk1n3KVw2iEwfwQl0b8Vw3lw5A&fref=pb&paipv=0', 'type': 'like'}, {'name': 'Jesus Hernandez', 'link': 'https://facebook.com/profile.php?id=100092712981043&eav=AfZfQf8miz53mOhzKoraEncHFwGRNc_JfDdwN34wFswKYhl7DoIXUbik7sjEu1_YfTw&fref=pb&paipv=0', 'type': 'like'}, {'name': 'Ngọc Bích', 'link': 'https://facebook.com/profile.php?id=100092591830661&eav=AfZcMGTUbEfUSJ3o4CeVlWNOzhQYDbazVuhhJaNorZHGJIC1rblIbmtMHmfMRlzjTd4&fref=pb&paipv=0', 'type': 'like'}, {'name': 'Bậtnằpquantài Yêuemlầncuối', 'link': 'https://facebook.com/profile.php?id=100092585524164&eav=AfYcjv8oshBsUkTaKJbe_COD8Gh4FGpJBOeN4lUmMkrLrxfkcbcdHq_BZI5HJB49IYk&fref=pb&paipv=0', 'type': 'like'}, {'name': 'Henry NM', 'link': 'https://facebook.com/profile.php?id=100092475032330&eav=Afas6WgqDRl98QutKvMMGfL6P4Jl6cGDgGv_TNGBPcFyCRnrv1CniOdBMwsoGM_ewX0&fref=pb&paipv=0', 'type': 'like'}, {'name': 'Heartsteel Simp', 'link': 'https://facebook.com/profile.php?id=100092324761390&eav=AfZN2-1vkwPtfNCASomGX7T3jYbzCwDK-5m93pPNdK3uAvBvz6STvBIgM3uy4k0iyzM&fref=pb&paipv=0', 'type': 'love'}, {'name': 'Jatziri Mejia', 'link': 'https://facebook.com/profile.php?id=100091950651880&eav=AfYPH6pyadsmfeUAHB3K4Rn0YXDQgvWToDe1WZYrtRlqSP7jjRpS7erv6LirWvgvH1A&fref=pb&paipv=0', 'type': 'like'}, {'name': 'Watanabe Hanada', 'link': 'https://facebook.com/profile.php?id=100091471081842&eav=AfYD2nvVgvTBOxfRV-00LL4h3-U41bfB5fT9pQ8u4f6Vmf8WnpTk8L-uzfjVQNSCETI&fref=pb&paipv=0', 'type': 'love'}, {'name': 'Lilian', 'link': 'https://facebook.com/profile.php?id=100091347360858&eav=AfayrXX-BcBiJLPqRz3qCYO_uuF-pV17KQtsNRFz8goLFHySa4Z135jsXuSmmeqpU-g&fref=pb&paipv=0', 'type': 'love'}, {'name': 'Dennis Roney Lagos', 'link': 'https://facebook.com/profile.php?id=100091339690770&eav=AfZ8e2wGKJfVdzYBTEjRmEfxKJ2ict54kiz4ChuE1aHacBi2fQsVgDVrBMpaiIkBsWY&fref=pb&paipv=0', 'type': 'love'}, {'name': 'Phyo PyaePyae Pyi Soe', 'link': 'https://facebook.com/profile.php?id=100090957169544&eav=AfY4VBP-2V4Gnts-FkUCYs0X-n4YUr1okjWSD705spi6yEKZgr85cf9z9ywt4KutQRw&fref=pb&paipv=0', 'type': 'love'}, {'name': 'Daniel Georgiev', 'link': 'https://facebook.com/profile.php?id=100090909595341&eav=AfaB_-5tEUsG_NTEkiVR5geRIHnvyiLGbOscOS8choIAO0gejUQN_PRNnuCICklTHUk&fref=pb&paipv=0', 'type': 'like'}, {'name': 'Manuel Martínez', 'link': 'https://facebook.com/profile.php?id=100090813183872&eav=AfZA8rSGF6vfopfWEaZhXo_mGKYHzMHRnBhuXxoC5ELlm4o5H8i9nLAkfIFsxDRM364&fref=pb&paipv=0', 'type': 'love'}, {'name': 'Andrei Alcaide Asombrado', 'link': 'https://facebook.com/aka.andrei15?eav=Afb1rYPORi60orjjBV8hReOy7M2g_iIWHxN7V-bKDn2cN0CJlWlXPFfFJgP3PPKu-N8&fref=pb&paipv=0', 'type': 'love'}, {'name': 'Heart Cayabyab Nuestro', 'link': 'https://facebook.com/profile.php?id=100090555396286&eav=AfYz0LkLLdX5m7hH1oYW6CQIHmEG_vABpMIFxo1ikwT-01q5Ziv7mIcjchaKPJaqO04&fref=pb&paipv=0', 'type': 'love'}, {'name': 'Zydric M. Gutierrez', 'link': 'https://facebook.com/profile.php?id=100090508145600&eav=Afan-7HwuGEQOljydUz6vc1A0Aw3v_tewBvqHxM1Gb8zcnUY5YLGGVUgVYp1G1EL1Nc&fref=pb&paipv=0', 'type': 'love'}, {'name': 'Mikan Citri', 'link': 'https://facebook.com/profile.php?id=100090488442997&eav=AfZ01CSr2Yf2jBUQC0W0SA0yT7C5z0Gb19XHONBwCckMD3po5D-be1xnwi18X_qz4WU&fref=pb&paipv=0', 'type': 'love'}, {'name': 'Vlady ML', 'link': 'https://facebook.com/profile.php?id=100090373925161&eav=Afb6S9WJEHZ4IlW85k1npgpqUTbi0tkFNZXm1YiEnF0x2t_YJa7blAeODMCeEDB-Xwc&fref=pb&paipv=0', 'type': 'like'}, {'name': 'Lilith Lauv', 'link': 'https://facebook.com/profile.php?id=100090264710769&eav=AfYgJwI24hpjoj7z3P1vDndsZJybZhBNLYv3VBYMbH7X1HvvT8bYTTOCYVcPOsRuVDg&fref=pb&paipv=0', 'type': 'love'}, {'name': 'Jordan Rogel', 'link': 'https://facebook.com/profile.php?id=100090160302853&eav=AfZDC0NY52DnBOfdGTCxj95X2y1_FkwZTK1itPcBsAbtwpSLF2CnCrO01hP-GuTz0ao&fref=pb&paipv=0', 'type': 'love'}, {'name': 'Youssef Fazzani', 'link': 'https://facebook.com/profile.php?id=100090069166486&eav=AfZ8UMZFuk6OlCc4Ag0k7tocZIHaUwjPDiRauPO844UyoFCpdQP_DOtC45o-V-Mnoig&fref=pb&paipv=0', 'type': 'love'}, {'name': 'Nenma jukes', 'link': 'https://facebook.com/profile.php?id=100092685477480&eav=AfZFxoE0mSNdB1PwDcLScozJ1VGmpkD3pLgVmdjz8sFoZNbXpyxJBeAUJLwnfK5cBD8&fref=pb&paipv=0', 'type': 'love'}, {'name': 'VanFb page', 'link': 'https://facebook.com/profile.php?id=100094453625760&eav=Afa0e3dwMgxWdLfa1ldyqazfL7xH1n06vlm8TLGGGBs3iGVf95ZR0I2GAHKw2j6NrWQ&fref=pb&paipv=0', 'type': 'care'}, {'name': 'Mc Keizer', 'link': 'https://facebook.com/profile.php?id=100093836237466&eav=AfbSx5EORkgO9_CcyHMd9EkpsIrhPWRGdFnuzmGgWiW6sL52J32Kg_wH2_sd8ErW9uE&fref=pb&paipv=0', 'type': 'love'}, {'name': 'Chasers TV', 'link': 'https://facebook.com/profile.php?id=100091975059416&eav=AfbI3rLcFVDJx8FuaekeOl6tgeVwzK8R9qqvqHwzcojv0_DAtcq0HtW_XjZ5_YTk93E&fref=pb&paipv=0', 'type': 'love'}, {'name': 'Cyven Yu', 'link': 'https://facebook.com/profile.php?id=100091330068661&eav=Afb-k_iHtiForEhzSGieCOdCZ34JXRPkVPaYmUcLrdzKzjULLPqcYp03hFQjB5uAkqk&fref=pb&paipv=0', 'type': 'love'}, {'name': 'Giyu Tomioka', 'link': 'https://facebook.com/hiimgiyu?eav=AfbDvxS9xX28av2lwNly5bbn3iUqsHEnbtRQJ6ff7YohJr4xx1rc8-mg0n2z-WbEdQY&fref=pb&paipv=0', 'type': 'love'}, {'name': 'Sean', 'link': 'https://facebook.com/SeanHenryNavia?eav=Afa52hDFsfM-51UAraIne_gNfM7O9j6-Jfg-6jv2BQzY-XaSWcXeuTNK2DZG7IWYtf4&fref=pb&paipv=0', 'type': 'love'}, {'name': 'Takara Nana', 'link': 'https://facebook.com/takara.nana.cos?eav=AfYtdkFslPxh5FpwUb0QqzuLttTGk3fToEICRvfCUUpSdjCN8Au2PbWVrSTWbrS1iaE&fref=pb&paipv=0', 'type': 'love'}]\""
      ]
     },
     "execution_count": 13,
     "metadata": {},
     "output_type": "execute_result"
    }
   ],
   "source": [
    "data['reactors'].iloc[1]"
   ]
  },
  {
   "cell_type": "code",
   "execution_count": 14,
   "metadata": {},
   "outputs": [],
   "source": [
    "# Chuyển đối tượng python về dạng từ điển\n",
    "json_data = data['reactors'].to_dict()"
   ]
  },
  {
   "cell_type": "code",
   "execution_count": 15,
   "metadata": {},
   "outputs": [],
   "source": [
    "# json.dumps(json_data)\n",
    "with open(\"User/reactors.json\", \"w\") as f:\n",
    "    f.writelines([json.dumps(json_data, indent=4), \"\\n\"])"
   ]
  },
  {
   "cell_type": "code",
   "execution_count": 31,
   "metadata": {},
   "outputs": [
    {
     "ename": "JSONDecodeError",
     "evalue": "Extra data: line 1 column 55 (char 54)",
     "output_type": "error",
     "traceback": [
      "\u001b[1;31m---------------------------------------------------------------------------\u001b[0m",
      "\u001b[1;31mJSONDecodeError\u001b[0m                           Traceback (most recent call last)",
      "\u001b[1;32md:\\Bài tập UET\\Final-Project\\Data_Reactors.ipynb Cell 7\u001b[0m line \u001b[0;36m3\n\u001b[0;32m      <a href='vscode-notebook-cell:/d%3A/B%C3%A0i%20t%E1%BA%ADp%20UET/Final-Project/Data_Reactors.ipynb#W6sZmlsZQ%3D%3D?line=0'>1</a>\u001b[0m \u001b[39mimport\u001b[39;00m \u001b[39mjson\u001b[39;00m\n\u001b[1;32m----> <a href='vscode-notebook-cell:/d%3A/B%C3%A0i%20t%E1%BA%ADp%20UET/Final-Project/Data_Reactors.ipynb#W6sZmlsZQ%3D%3D?line=2'>3</a>\u001b[0m data_user \u001b[39m=\u001b[39m json\u001b[39m.\u001b[39mloads(\u001b[39mstr\u001b[39m(data[\u001b[39m'\u001b[39m\u001b[39mreactors\u001b[39m\u001b[39m'\u001b[39m])\u001b[39m.\u001b[39mrstrip())\n\u001b[0;32m      <a href='vscode-notebook-cell:/d%3A/B%C3%A0i%20t%E1%BA%ADp%20UET/Final-Project/Data_Reactors.ipynb#W6sZmlsZQ%3D%3D?line=4'>5</a>\u001b[0m name \u001b[39m=\u001b[39m data_user[\u001b[39m\"\u001b[39m\u001b[39m1\u001b[39m\u001b[39m\"\u001b[39m][\u001b[39m0\u001b[39m][\u001b[39m\"\u001b[39m\u001b[39mname\u001b[39m\u001b[39m\"\u001b[39m]\n\u001b[0;32m      <a href='vscode-notebook-cell:/d%3A/B%C3%A0i%20t%E1%BA%ADp%20UET/Final-Project/Data_Reactors.ipynb#W6sZmlsZQ%3D%3D?line=5'>6</a>\u001b[0m link \u001b[39m=\u001b[39m data_user[\u001b[39m\"\u001b[39m\u001b[39m1\u001b[39m\u001b[39m\"\u001b[39m][\u001b[39m0\u001b[39m][\u001b[39m\"\u001b[39m\u001b[39mlink\u001b[39m\u001b[39m\"\u001b[39m]\n",
      "File \u001b[1;32md:\\Anaconda\\Lib\\json\\__init__.py:346\u001b[0m, in \u001b[0;36mloads\u001b[1;34m(s, cls, object_hook, parse_float, parse_int, parse_constant, object_pairs_hook, **kw)\u001b[0m\n\u001b[0;32m    341\u001b[0m     s \u001b[39m=\u001b[39m s\u001b[39m.\u001b[39mdecode(detect_encoding(s), \u001b[39m'\u001b[39m\u001b[39msurrogatepass\u001b[39m\u001b[39m'\u001b[39m)\n\u001b[0;32m    343\u001b[0m \u001b[39mif\u001b[39;00m (\u001b[39mcls\u001b[39m \u001b[39mis\u001b[39;00m \u001b[39mNone\u001b[39;00m \u001b[39mand\u001b[39;00m object_hook \u001b[39mis\u001b[39;00m \u001b[39mNone\u001b[39;00m \u001b[39mand\u001b[39;00m\n\u001b[0;32m    344\u001b[0m         parse_int \u001b[39mis\u001b[39;00m \u001b[39mNone\u001b[39;00m \u001b[39mand\u001b[39;00m parse_float \u001b[39mis\u001b[39;00m \u001b[39mNone\u001b[39;00m \u001b[39mand\u001b[39;00m\n\u001b[0;32m    345\u001b[0m         parse_constant \u001b[39mis\u001b[39;00m \u001b[39mNone\u001b[39;00m \u001b[39mand\u001b[39;00m object_pairs_hook \u001b[39mis\u001b[39;00m \u001b[39mNone\u001b[39;00m \u001b[39mand\u001b[39;00m \u001b[39mnot\u001b[39;00m kw):\n\u001b[1;32m--> 346\u001b[0m     \u001b[39mreturn\u001b[39;00m _default_decoder\u001b[39m.\u001b[39mdecode(s)\n\u001b[0;32m    347\u001b[0m \u001b[39mif\u001b[39;00m \u001b[39mcls\u001b[39m \u001b[39mis\u001b[39;00m \u001b[39mNone\u001b[39;00m:\n\u001b[0;32m    348\u001b[0m     \u001b[39mcls\u001b[39m \u001b[39m=\u001b[39m JSONDecoder\n",
      "File \u001b[1;32md:\\Anaconda\\Lib\\json\\decoder.py:340\u001b[0m, in \u001b[0;36mJSONDecoder.decode\u001b[1;34m(self, s, _w)\u001b[0m\n\u001b[0;32m    338\u001b[0m end \u001b[39m=\u001b[39m _w(s, end)\u001b[39m.\u001b[39mend()\n\u001b[0;32m    339\u001b[0m \u001b[39mif\u001b[39;00m end \u001b[39m!=\u001b[39m \u001b[39mlen\u001b[39m(s):\n\u001b[1;32m--> 340\u001b[0m     \u001b[39mraise\u001b[39;00m JSONDecodeError(\u001b[39m\"\u001b[39m\u001b[39mExtra data\u001b[39m\u001b[39m\"\u001b[39m, s, end)\n\u001b[0;32m    341\u001b[0m \u001b[39mreturn\u001b[39;00m obj\n",
      "\u001b[1;31mJSONDecodeError\u001b[0m: Extra data: line 1 column 55 (char 54)"
     ]
    }
   ],
   "source": [
    "import json\n",
    "\n",
    "data_user = json.loads(str(data['reactors']).rstrip())\n",
    "\n",
    "name = data_user[\"1\"][0][\"name\"]\n",
    "link = data_user[\"1\"][0][\"link\"]\n",
    "\n",
    "print(name)\n",
    "print(link)"
   ]
  }
 ],
 "metadata": {
  "kernelspec": {
   "display_name": "base",
   "language": "python",
   "name": "python3"
  },
  "language_info": {
   "codemirror_mode": {
    "name": "ipython",
    "version": 3
   },
   "file_extension": ".py",
   "mimetype": "text/x-python",
   "name": "python",
   "nbconvert_exporter": "python",
   "pygments_lexer": "ipython3",
   "version": "3.11.5"
  }
 },
 "nbformat": 4,
 "nbformat_minor": 2
}
